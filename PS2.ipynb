{
 "cells": [
  {
   "cell_type": "markdown",
   "id": "f37ac110",
   "metadata": {},
   "source": [
    "# Question 1"
   ]
  },
  {
   "cell_type": "code",
   "execution_count": 1,
   "id": "e18ece53",
   "metadata": {},
   "outputs": [],
   "source": [
    "a = 0                  # Assigning 0 value to object a\n",
    "\n",
    "def b():               # defining function b\n",
    "    global a           # declaring a as a global variable therfore now a will have global scope\n",
    "    a = c(a)           # Assigning function c to variable a\n",
    "    \n",
    "def c(a):\n",
    "    return a + 2      # will return a with 2 added int it"
   ]
  },
  {
   "cell_type": "code",
   "execution_count": 2,
   "id": "83bee0cc",
   "metadata": {},
   "outputs": [
    {
     "name": "stdout",
     "output_type": "stream",
     "text": [
      "6\n"
     ]
    }
   ],
   "source": [
    "b()     # when function is called initially a will be 0 after implemetation of function a will be 2\n",
    "b()     # when function is called initially a will be 2 after implemetation of function a will be 4        \n",
    "b()     # when function is called initially a will be 4 after implemetation of function a will be 6\n",
    "print(a) # when a is printed our output will be 6"
   ]
  },
  {
   "cell_type": "markdown",
   "id": "2ffc47ce",
   "metadata": {},
   "source": [
    "# question 2"
   ]
  },
  {
   "cell_type": "code",
   "execution_count": 3,
   "id": "5ddf249b",
   "metadata": {},
   "outputs": [],
   "source": [
    "def file_length(file_name):     # defining function file_length which will take file_name as input\n",
    "    try:                        # try perfroming following task\n",
    "        file = open(file_name)  # will open file\n",
    "        contents = file.read()  # will read the file\n",
    "        file.close()            # will close the file\n",
    "        print(len(contents))   # will print the length of the file\n",
    "    except FileNotFoundError:  # except condition will print \"not found\" when there will be \"FileNotFoundError\" error\n",
    "        print(file_name, \"not found\")"
   ]
  },
  {
   "cell_type": "code",
   "execution_count": 4,
   "id": "fef247f4",
   "metadata": {},
   "outputs": [
    {
     "name": "stdout",
     "output_type": "stream",
     "text": [
      "102\n"
     ]
    }
   ],
   "source": [
    "file_length(\"bloodtype1.txt\")  # Calling function for file name which exist\n"
   ]
  },
  {
   "cell_type": "code",
   "execution_count": 5,
   "id": "24f8a4ca",
   "metadata": {},
   "outputs": [
    {
     "name": "stdout",
     "output_type": "stream",
     "text": [
      "bloodtype12.txt not found\n"
     ]
    }
   ],
   "source": [
    "file_length(\"bloodtype12.txt\")   # Calling function for file name which does not exist"
   ]
  },
  {
   "cell_type": "markdown",
   "id": "0ec1297c",
   "metadata": {},
   "source": [
    "# Question 3"
   ]
  },
  {
   "cell_type": "code",
   "execution_count": 6,
   "id": "cd0cc201",
   "metadata": {},
   "outputs": [],
   "source": [
    "class Marsupial():   # Creating a class\n",
    "\n",
    "    global pouch     # declaring global variable name pouch\n",
    "    pouch = list()   # declaring pouch variable as a list\n",
    "    def put_in_pouch(self, entry):  # defining function put_in_pouch with entry as a parameter\n",
    "        self.entry = entry\n",
    "        pouch.append(self.entry)  # appeding entry to the pouch list\n",
    "                \n",
    "    def pouch_contents(self):   # function will return pouch\n",
    "        return pouch\n",
    "\n",
    "class kangaroo( Marsupial):  # Creating class kangaroo having Marsupial as a sub class\n",
    "    \n",
    "    def __init__(self, x, y):  # initial value of x and y where they reoresent x and y coordinate respectively.\n",
    "        self.current_x = x     # current positoin of x\n",
    "        self.current_y = y     # current position of y\n",
    "    \n",
    "    def jump(self, dx, dy):   # function jump will take x and y cordinate after jump                 \n",
    "        self.current_x = dx + self.current_x  # current position of x after jump\n",
    "        self.current_y = dy + self.current_y  # currernt positiono of y after jump\n",
    "    \n",
    "    def __str__(self):\n",
    "        return f'I am the Kangaroo at coordinates ({self.current_x}, {self.current_y})'"
   ]
  },
  {
   "cell_type": "code",
   "execution_count": 7,
   "id": "62a5f2dc",
   "metadata": {},
   "outputs": [
    {
     "name": "stdout",
     "output_type": "stream",
     "text": [
      "I am the Kangaroo at coordinates (0, 0)\n",
      "I am the Kangaroo at coordinates (3, 0)\n"
     ]
    },
    {
     "data": {
      "text/plain": [
       "['Doll', 'Firetruck', 'Kitten']"
      ]
     },
     "execution_count": 7,
     "metadata": {},
     "output_type": "execute_result"
    }
   ],
   "source": [
    "k = kangaroo(0,0)\n",
    "print(k)\n",
    "k.put_in_pouch('Doll')\n",
    "k.put_in_pouch('Firetruck')\n",
    "k.put_in_pouch('Kitten')\n",
    "k.jump(1,0)\n",
    "k.jump(1,0)\n",
    "k.jump(1,0)\n",
    "print(k)\n",
    "k.pouch_contents()"
   ]
  },
  {
   "cell_type": "markdown",
   "id": "ec0ed2f3",
   "metadata": {},
   "source": [
    "# Question 4"
   ]
  },
  {
   "cell_type": "code",
   "execution_count": 8,
   "id": "efb57c2b",
   "metadata": {
    "scrolled": true
   },
   "outputs": [],
   "source": [
    "def collatz(x): # defining function collatz which will have x as a parameter\n",
    "    \n",
    "    if (x == 1):  # base condition\n",
    "        print(x)\n",
    "    else:\n",
    "        print(x)\n",
    "        if (x % 2 == 0):  # checking if x is divisible by 2 or say x is even\n",
    "            collatz(x/2)  # recursive condition when calling function for x/2\n",
    "        else:\n",
    "            collatz(3 * x + 1)  # recursive condition when x is odd"
   ]
  },
  {
   "cell_type": "code",
   "execution_count": 9,
   "id": "fae2347c",
   "metadata": {},
   "outputs": [
    {
     "name": "stdout",
     "output_type": "stream",
     "text": [
      "1\n"
     ]
    }
   ],
   "source": [
    "collatz(1)"
   ]
  },
  {
   "cell_type": "code",
   "execution_count": 10,
   "id": "8c0d5fae",
   "metadata": {},
   "outputs": [
    {
     "name": "stdout",
     "output_type": "stream",
     "text": [
      "10\n",
      "5.0\n",
      "16.0\n",
      "8.0\n",
      "4.0\n",
      "2.0\n",
      "1.0\n"
     ]
    }
   ],
   "source": [
    "collatz(10)"
   ]
  },
  {
   "cell_type": "markdown",
   "id": "4d567e8f",
   "metadata": {},
   "source": [
    "# Question 5"
   ]
  },
  {
   "cell_type": "code",
   "execution_count": 11,
   "id": "a4bb759e",
   "metadata": {},
   "outputs": [],
   "source": [
    "def binary(x):    # defining binary function with x as a parameter.\n",
    "    if (x == 0):  # base condition\n",
    "        return(x)\n",
    "    else:               # recursive condition\n",
    "        binary(x // 2)    # calling function for x//2\n",
    "        print (x % 2, end = \"\")  # printing value of remaider\n",
    "        \n",
    "        "
   ]
  },
  {
   "cell_type": "code",
   "execution_count": 12,
   "id": "93889760",
   "metadata": {},
   "outputs": [
    {
     "data": {
      "text/plain": [
       "0"
      ]
     },
     "execution_count": 12,
     "metadata": {},
     "output_type": "execute_result"
    }
   ],
   "source": [
    "binary(0)"
   ]
  },
  {
   "cell_type": "code",
   "execution_count": 13,
   "id": "6a95ba27",
   "metadata": {
    "scrolled": true
   },
   "outputs": [
    {
     "name": "stdout",
     "output_type": "stream",
     "text": [
      "1"
     ]
    }
   ],
   "source": [
    "binary(1)"
   ]
  },
  {
   "cell_type": "code",
   "execution_count": 14,
   "id": "021d8a64",
   "metadata": {},
   "outputs": [
    {
     "name": "stdout",
     "output_type": "stream",
     "text": [
      "11"
     ]
    }
   ],
   "source": [
    "binary(3)"
   ]
  },
  {
   "cell_type": "code",
   "execution_count": 15,
   "id": "149f40a0",
   "metadata": {},
   "outputs": [
    {
     "name": "stdout",
     "output_type": "stream",
     "text": [
      "1001"
     ]
    }
   ],
   "source": [
    "binary(9)"
   ]
  },
  {
   "cell_type": "markdown",
   "id": "3e710c72",
   "metadata": {},
   "source": [
    "# Question 6"
   ]
  },
  {
   "cell_type": "code",
   "execution_count": 16,
   "id": "c0626da7",
   "metadata": {},
   "outputs": [],
   "source": [
    "from html.parser import HTMLParser\n",
    "\n",
    "class Headingparser (HTMLParser):                                  # creating class Headingparser with HTMLParser as a parameter\n",
    "    \n",
    "    tags = []                                                      # creating empty list named tags\n",
    "    def handle_starttag(self, tag, attrs): \n",
    "        self.tags = tag                                            # assigning tag of HTML to tags list\n",
    "        \n",
    "    def handle_data(self, data):  \n",
    "        if self.tags == \"h1\":                                      # looking for h1 tag\n",
    "            self.indentation = 0                                   # ther will be no indentation if tag is h1\n",
    "            print (' ' * self.indentation, data.strip())\n",
    "        if self.tags == \"h2\": # looking for h2 tag\n",
    "            self.indentation = 1                                   # there will be 1 indentation for h2 tag\n",
    "            print (' ' * self.indentation, data.strip())"
   ]
  },
  {
   "cell_type": "code",
   "execution_count": 17,
   "id": "7c4bc6d1",
   "metadata": {},
   "outputs": [
    {
     "name": "stdout",
     "output_type": "stream",
     "text": [
      " W3C Mission\n",
      " \n",
      "  Principles\n",
      "  \n",
      "  \n"
     ]
    }
   ],
   "source": [
    "infile = open('w3c.txt')                                           # opening file name w3c.txt\n",
    "content = infile.read()                                            # will read the file\n",
    "infile.close()\n",
    "\n",
    "hp = Headingparser()\n",
    "hp.feed(content)    "
   ]
  },
  {
   "cell_type": "markdown",
   "id": "cbff08e6",
   "metadata": {},
   "source": [
    "# Question 7"
   ]
  },
  {
   "cell_type": "code",
   "execution_count": 18,
   "id": "e2667814",
   "metadata": {},
   "outputs": [],
   "source": [
    "from urllib.parse import urljoin\n",
    "from html.parser import HTMLParser\n",
    "\n",
    "class Collector(HTMLParser):               # creating Collector class with HTMLParser as a parameter\n",
    "   \n",
    "    def __init__(self, url):               # fetch hyperlink URLs into a list\n",
    "        'initializes parser, the url, and a list'\n",
    "        HTMLParser.__init__(self)\n",
    "        self.url = url\n",
    "        self.links = []                   # creating empty list for hyperlink\n",
    "\n",
    "    \n",
    "    def handle_starttag(self, tag, attrs):\n",
    "        if tag == 'a':                                             # looking for a tag\n",
    "            for attr in attrs: \n",
    "                if attr[0] == 'href':                              # checking for href at 0 index of attr \n",
    "                    absolute = urljoin(self.url, attr[1])          # construct absolute URL\n",
    "                    if absolute[:4] == 'http':                     # collect HTTP URLs\n",
    "                        self.links.append(absolute)                # appending HTTP URLs to links list\n",
    "                        \n",
    "    def getLinks(self):                                            # returns hyperlinks URLs \n",
    "        return self.links"
   ]
  },
  {
   "cell_type": "code",
   "execution_count": 19,
   "id": "cf294d61",
   "metadata": {},
   "outputs": [],
   "source": [
    "import urllib.request\n",
    "from html.parser import HTMLParser\n",
    "\n",
    "def webdir(url, depth, indent):                     # creating function having url, depth and indent as its parameters\n",
    "    if depth < 0:                                   # looking if depth is less than 0 and if so then return\n",
    "        return\n",
    "\n",
    "    response = urllib.request.urlopen(url)         # will take response for url\n",
    "    content = response.read().decode()             # will read response and decode it for extracting information\n",
    "    collector = Collector(url)                     # intance of Collector class\n",
    "    collector.feed(content)\n",
    "\n",
    "    print(\" \" * (indent * 1) + url)                # Print the URL with indentation\n",
    "\n",
    "    if depth > 0:                                 # looking for depth greater than 1\n",
    "        for link in collector.links:\n",
    "            webdir(link, depth - 1, indent + 1)\n",
    "\n"
   ]
  },
  {
   "cell_type": "code",
   "execution_count": 20,
   "id": "d9d6f94f",
   "metadata": {},
   "outputs": [
    {
     "ename": "HTTPError",
     "evalue": "HTTP Error 404: ",
     "output_type": "error",
     "traceback": [
      "\u001b[1;31m---------------------------------------------------------------------------\u001b[0m",
      "\u001b[1;31mHTTPError\u001b[0m                                 Traceback (most recent call last)",
      "Cell \u001b[1;32mIn[20], line 1\u001b[0m\n\u001b[1;32m----> 1\u001b[0m webdir(\u001b[38;5;124m'\u001b[39m\u001b[38;5;124mhttp://reed.cs.depaul.edu/lperkovic/csc242/test1.html\u001b[39m\u001b[38;5;124m'\u001b[39m, \u001b[38;5;241m2\u001b[39m, \u001b[38;5;241m0\u001b[39m)\n",
      "Cell \u001b[1;32mIn[19], line 8\u001b[0m, in \u001b[0;36mwebdir\u001b[1;34m(url, depth, indent)\u001b[0m\n\u001b[0;32m      5\u001b[0m \u001b[38;5;28;01mif\u001b[39;00m depth \u001b[38;5;241m<\u001b[39m \u001b[38;5;241m0\u001b[39m:                                   \u001b[38;5;66;03m# looking if depth is less than 0 and if so then return\u001b[39;00m\n\u001b[0;32m      6\u001b[0m     \u001b[38;5;28;01mreturn\u001b[39;00m\n\u001b[1;32m----> 8\u001b[0m response \u001b[38;5;241m=\u001b[39m urllib\u001b[38;5;241m.\u001b[39mrequest\u001b[38;5;241m.\u001b[39murlopen(url)         \u001b[38;5;66;03m# will take response for url\u001b[39;00m\n\u001b[0;32m      9\u001b[0m content \u001b[38;5;241m=\u001b[39m response\u001b[38;5;241m.\u001b[39mread()\u001b[38;5;241m.\u001b[39mdecode()             \u001b[38;5;66;03m# will read response and decode it for extracting information\u001b[39;00m\n\u001b[0;32m     10\u001b[0m collector \u001b[38;5;241m=\u001b[39m Collector(url)                     \u001b[38;5;66;03m# intance of Collector class\u001b[39;00m\n",
      "File \u001b[1;32m~\\anaconda3\\Lib\\urllib\\request.py:216\u001b[0m, in \u001b[0;36murlopen\u001b[1;34m(url, data, timeout, cafile, capath, cadefault, context)\u001b[0m\n\u001b[0;32m    214\u001b[0m \u001b[38;5;28;01melse\u001b[39;00m:\n\u001b[0;32m    215\u001b[0m     opener \u001b[38;5;241m=\u001b[39m _opener\n\u001b[1;32m--> 216\u001b[0m \u001b[38;5;28;01mreturn\u001b[39;00m opener\u001b[38;5;241m.\u001b[39mopen(url, data, timeout)\n",
      "File \u001b[1;32m~\\anaconda3\\Lib\\urllib\\request.py:525\u001b[0m, in \u001b[0;36mOpenerDirector.open\u001b[1;34m(self, fullurl, data, timeout)\u001b[0m\n\u001b[0;32m    523\u001b[0m \u001b[38;5;28;01mfor\u001b[39;00m processor \u001b[38;5;129;01min\u001b[39;00m \u001b[38;5;28mself\u001b[39m\u001b[38;5;241m.\u001b[39mprocess_response\u001b[38;5;241m.\u001b[39mget(protocol, []):\n\u001b[0;32m    524\u001b[0m     meth \u001b[38;5;241m=\u001b[39m \u001b[38;5;28mgetattr\u001b[39m(processor, meth_name)\n\u001b[1;32m--> 525\u001b[0m     response \u001b[38;5;241m=\u001b[39m meth(req, response)\n\u001b[0;32m    527\u001b[0m \u001b[38;5;28;01mreturn\u001b[39;00m response\n",
      "File \u001b[1;32m~\\anaconda3\\Lib\\urllib\\request.py:634\u001b[0m, in \u001b[0;36mHTTPErrorProcessor.http_response\u001b[1;34m(self, request, response)\u001b[0m\n\u001b[0;32m    631\u001b[0m \u001b[38;5;66;03m# According to RFC 2616, \"2xx\" code indicates that the client's\u001b[39;00m\n\u001b[0;32m    632\u001b[0m \u001b[38;5;66;03m# request was successfully received, understood, and accepted.\u001b[39;00m\n\u001b[0;32m    633\u001b[0m \u001b[38;5;28;01mif\u001b[39;00m \u001b[38;5;129;01mnot\u001b[39;00m (\u001b[38;5;241m200\u001b[39m \u001b[38;5;241m<\u001b[39m\u001b[38;5;241m=\u001b[39m code \u001b[38;5;241m<\u001b[39m \u001b[38;5;241m300\u001b[39m):\n\u001b[1;32m--> 634\u001b[0m     response \u001b[38;5;241m=\u001b[39m \u001b[38;5;28mself\u001b[39m\u001b[38;5;241m.\u001b[39mparent\u001b[38;5;241m.\u001b[39merror(\n\u001b[0;32m    635\u001b[0m         \u001b[38;5;124m'\u001b[39m\u001b[38;5;124mhttp\u001b[39m\u001b[38;5;124m'\u001b[39m, request, response, code, msg, hdrs)\n\u001b[0;32m    637\u001b[0m \u001b[38;5;28;01mreturn\u001b[39;00m response\n",
      "File \u001b[1;32m~\\anaconda3\\Lib\\urllib\\request.py:563\u001b[0m, in \u001b[0;36mOpenerDirector.error\u001b[1;34m(self, proto, *args)\u001b[0m\n\u001b[0;32m    561\u001b[0m \u001b[38;5;28;01mif\u001b[39;00m http_err:\n\u001b[0;32m    562\u001b[0m     args \u001b[38;5;241m=\u001b[39m (\u001b[38;5;28mdict\u001b[39m, \u001b[38;5;124m'\u001b[39m\u001b[38;5;124mdefault\u001b[39m\u001b[38;5;124m'\u001b[39m, \u001b[38;5;124m'\u001b[39m\u001b[38;5;124mhttp_error_default\u001b[39m\u001b[38;5;124m'\u001b[39m) \u001b[38;5;241m+\u001b[39m orig_args\n\u001b[1;32m--> 563\u001b[0m     \u001b[38;5;28;01mreturn\u001b[39;00m \u001b[38;5;28mself\u001b[39m\u001b[38;5;241m.\u001b[39m_call_chain(\u001b[38;5;241m*\u001b[39margs)\n",
      "File \u001b[1;32m~\\anaconda3\\Lib\\urllib\\request.py:496\u001b[0m, in \u001b[0;36mOpenerDirector._call_chain\u001b[1;34m(self, chain, kind, meth_name, *args)\u001b[0m\n\u001b[0;32m    494\u001b[0m \u001b[38;5;28;01mfor\u001b[39;00m handler \u001b[38;5;129;01min\u001b[39;00m handlers:\n\u001b[0;32m    495\u001b[0m     func \u001b[38;5;241m=\u001b[39m \u001b[38;5;28mgetattr\u001b[39m(handler, meth_name)\n\u001b[1;32m--> 496\u001b[0m     result \u001b[38;5;241m=\u001b[39m func(\u001b[38;5;241m*\u001b[39margs)\n\u001b[0;32m    497\u001b[0m     \u001b[38;5;28;01mif\u001b[39;00m result \u001b[38;5;129;01mis\u001b[39;00m \u001b[38;5;129;01mnot\u001b[39;00m \u001b[38;5;28;01mNone\u001b[39;00m:\n\u001b[0;32m    498\u001b[0m         \u001b[38;5;28;01mreturn\u001b[39;00m result\n",
      "File \u001b[1;32m~\\anaconda3\\Lib\\urllib\\request.py:643\u001b[0m, in \u001b[0;36mHTTPDefaultErrorHandler.http_error_default\u001b[1;34m(self, req, fp, code, msg, hdrs)\u001b[0m\n\u001b[0;32m    642\u001b[0m \u001b[38;5;28;01mdef\u001b[39;00m \u001b[38;5;21mhttp_error_default\u001b[39m(\u001b[38;5;28mself\u001b[39m, req, fp, code, msg, hdrs):\n\u001b[1;32m--> 643\u001b[0m     \u001b[38;5;28;01mraise\u001b[39;00m HTTPError(req\u001b[38;5;241m.\u001b[39mfull_url, code, msg, hdrs, fp)\n",
      "\u001b[1;31mHTTPError\u001b[0m: HTTP Error 404: "
     ]
    }
   ],
   "source": [
    "webdir('http://reed.cs.depaul.edu/lperkovic/csc242/test1.html', 2, 0) # site is having HTTP 404 Not Found error\n"
   ]
  },
  {
   "cell_type": "markdown",
   "id": "3d0a62a4",
   "metadata": {},
   "source": [
    "# Question 8"
   ]
  },
  {
   "cell_type": "code",
   "execution_count": null,
   "id": "cd297069",
   "metadata": {},
   "outputs": [],
   "source": [
    "!pip install ipython-sql     # installing sql in python"
   ]
  },
  {
   "cell_type": "code",
   "execution_count": 21,
   "id": "9d6cecd7",
   "metadata": {},
   "outputs": [],
   "source": [
    "import sqlite3\n",
    "\n",
    "con = sqlite3.connect('practice.db')       # creating database named practice.db\n",
    "cur = con.cursor()\n",
    "cur.execute(\"CREATE TABLE practice (City text, Country text, Season text, Temperature float, Rainfall float)\") # table creation\n",
    "# Inserting data to the table\n",
    "cur.execute(\"INSERT INTO practice VALUES ('Mumbai', 'India', 'Winter', 24.8, 5.9)\")\n",
    "cur.execute(\"INSERT INTO practice VALUES ('Mumbai', 'India', 'Spring', 28.4, 16.2)\") \n",
    "cur.execute(\"INSERT INTO practice VALUES ('Mumbai', 'India', 'Summer', 27.9, 1549.4)\") \n",
    "cur.execute(\"INSERT INTO practice VALUES ('Mumbai', 'India', 'Fall', 27.6, 346.0)\") \n",
    "cur.execute(\"INSERT INTO practice VALUES ('London', 'United Kingdom', 'Winter', 4.2, 207.7)\") \n",
    "cur.execute(\"INSERT INTO practice VALUES ('London', 'United Kingdom', 'Spring', 8.3, 169.6)\") \n",
    "cur.execute(\"INSERT INTO practice VALUES ('London', 'United Kingdom', 'Summer', 15.7, 157.0)\") \n",
    "cur.execute(\"INSERT INTO practice VALUES ('London', 'United Kingdom', 'Fall', 10.4, 218.5)\") \n",
    "cur.execute(\"INSERT INTO practice VALUES ('Cairo', 'Egypt', 'Winter', 13.6, 16.5)\") \n",
    "cur.execute(\"INSERT INTO practice VALUES ('Cairo', 'Egypt', 'Spring', 20.7, 6.5)\") \n",
    "cur.execute(\"INSERT INTO practice VALUES ('Cairo', 'Egypt', 'Summer', 27.7, 0.1)\") \n",
    "cur.execute(\"INSERT INTO practice VALUES ('Cairo', 'Egypt', 'Fall', 22.2, 4.5)\") \n",
    "\n",
    "con.commit()              # commiting changes to the table so that it wills store it\n",
    "con.close()"
   ]
  },
  {
   "cell_type": "code",
   "execution_count": 22,
   "id": "1222e2c3",
   "metadata": {},
   "outputs": [
    {
     "data": {
      "text/plain": [
       "[('Mumbai', 'India', 'Winter', 24.8, 5.9),\n",
       " ('Mumbai', 'India', 'Spring', 28.4, 16.2),\n",
       " ('Mumbai', 'India', 'Summer', 27.9, 1549.4),\n",
       " ('Mumbai', 'India', 'Fall', 27.6, 346.0),\n",
       " ('London', 'United Kingdom', 'Winter', 4.2, 207.7),\n",
       " ('London', 'United Kingdom', 'Spring', 8.3, 169.6),\n",
       " ('London', 'United Kingdom', 'Summer', 15.7, 157.0),\n",
       " ('London', 'United Kingdom', 'Fall', 10.4, 218.5),\n",
       " ('Cairo', 'Egypt', 'Winter', 13.6, 16.5),\n",
       " ('Cairo', 'Egypt', 'Spring', 20.7, 6.5),\n",
       " ('Cairo', 'Egypt', 'Summer', 27.7, 0.1),\n",
       " ('Cairo', 'Egypt', 'Fall', 22.2, 4.5)]"
      ]
     },
     "execution_count": 22,
     "metadata": {},
     "output_type": "execute_result"
    }
   ],
   "source": [
    "con = sqlite3.connect('practice.db')\n",
    "cur = con.cursor()\n",
    "cur.execute('SELECT * FROM practice')     # printing table\n",
    "cur.fetchall()"
   ]
  },
  {
   "cell_type": "code",
   "execution_count": 23,
   "id": "9f04080c",
   "metadata": {},
   "outputs": [
    {
     "data": {
      "text/plain": [
       "[(24.8,),\n",
       " (28.4,),\n",
       " (27.9,),\n",
       " (27.6,),\n",
       " (4.2,),\n",
       " (8.3,),\n",
       " (15.7,),\n",
       " (10.4,),\n",
       " (13.6,),\n",
       " (20.7,),\n",
       " (27.7,),\n",
       " (22.2,)]"
      ]
     },
     "execution_count": 23,
     "metadata": {},
     "output_type": "execute_result"
    }
   ],
   "source": [
    "cur.execute('SELECT Temperature FROM practice') # will display only temperature column from table\n",
    "cur.fetchall()"
   ]
  },
  {
   "cell_type": "code",
   "execution_count": 24,
   "id": "9bede9e9",
   "metadata": {},
   "outputs": [
    {
     "data": {
      "text/plain": [
       "[('Mumbai',), ('London',), ('Cairo',)]"
      ]
     },
     "execution_count": 24,
     "metadata": {},
     "output_type": "execute_result"
    }
   ],
   "source": [
    "cur.execute('SELECT Distinct City FROM practice') # display distinct cities of the table\n",
    "cur.fetchall()"
   ]
  },
  {
   "cell_type": "code",
   "execution_count": 25,
   "id": "8481dada",
   "metadata": {},
   "outputs": [
    {
     "data": {
      "text/plain": [
       "[('Mumbai', 'India', 'Winter', 24.8, 5.9),\n",
       " ('Mumbai', 'India', 'Spring', 28.4, 16.2),\n",
       " ('Mumbai', 'India', 'Summer', 27.9, 1549.4),\n",
       " ('Mumbai', 'India', 'Fall', 27.6, 346.0)]"
      ]
     },
     "execution_count": 25,
     "metadata": {},
     "output_type": "execute_result"
    }
   ],
   "source": [
    "cur.execute('SELECT * FROM practice WHERE Country = \"India\" ') # display data for country named India\n",
    "cur.fetchall()"
   ]
  },
  {
   "cell_type": "code",
   "execution_count": 26,
   "id": "ccf2296d",
   "metadata": {},
   "outputs": [
    {
     "data": {
      "text/plain": [
       "[('Mumbai', 'India', 'Fall', 27.6, 346.0),\n",
       " ('London', 'United Kingdom', 'Fall', 10.4, 218.5),\n",
       " ('Cairo', 'Egypt', 'Fall', 22.2, 4.5)]"
      ]
     },
     "execution_count": 26,
     "metadata": {},
     "output_type": "execute_result"
    }
   ],
   "source": [
    "cur.execute('SELECT * FROM practice WHERE Season = \"Fall\" ')   # display data for fall season\n",
    "cur.fetchall()"
   ]
  },
  {
   "cell_type": "code",
   "execution_count": 27,
   "id": "742665f0",
   "metadata": {},
   "outputs": [
    {
     "data": {
      "text/plain": [
       "[('Mumbai', 'India', 'Fall'),\n",
       " ('London', 'United Kingdom', 'Winter'),\n",
       " ('London', 'United Kingdom', 'Fall')]"
      ]
     },
     "execution_count": 27,
     "metadata": {},
     "output_type": "execute_result"
    }
   ],
   "source": [
    "cur.execute('SELECT City, Country, Season FROM practice WHERE Rainfall BETWEEN 200 AND 400 ')\n",
    "cur.fetchall()"
   ]
  },
  {
   "cell_type": "code",
   "execution_count": 28,
   "id": "edef6228",
   "metadata": {},
   "outputs": [
    {
     "data": {
      "text/plain": [
       "[('Cairo', 'Egypt'),\n",
       " ('Cairo', 'Egypt'),\n",
       " ('Mumbai', 'India'),\n",
       " ('Mumbai', 'India'),\n",
       " ('Cairo', 'Egypt'),\n",
       " ('Mumbai', 'India'),\n",
       " ('Mumbai', 'India')]"
      ]
     },
     "execution_count": 28,
     "metadata": {},
     "output_type": "execute_result"
    }
   ],
   "source": [
    "cur.execute('SELECT City, Country FROM practice WHERE Temperature > 20 ORDER By Temperature ASC')\n",
    "cur.fetchall()"
   ]
  },
  {
   "cell_type": "code",
   "execution_count": 29,
   "id": "d46d4966",
   "metadata": {},
   "outputs": [
    {
     "data": {
      "text/plain": [
       "[(27.6,)]"
      ]
     },
     "execution_count": 29,
     "metadata": {},
     "output_type": "execute_result"
    }
   ],
   "source": [
    "cur.execute('SELECT SUM(Rainfall) FROM practice WHERE City = \"Cairo\" ')\n",
    "cur.fetchall()"
   ]
  },
  {
   "cell_type": "code",
   "execution_count": 30,
   "id": "2695202b",
   "metadata": {},
   "outputs": [
    {
     "data": {
      "text/plain": [
       "[('Fall', 569.0),\n",
       " ('Spring', 192.29999999999998),\n",
       " ('Summer', 1706.5),\n",
       " ('Winter', 230.1)]"
      ]
     },
     "execution_count": 30,
     "metadata": {},
     "output_type": "execute_result"
    }
   ],
   "source": [
    "cur.execute('SELECT Season, SUM(Rainfall) FROM practice GROUP BY Season ')\n",
    "cur.fetchall()"
   ]
  },
  {
   "cell_type": "markdown",
   "id": "b8c31820",
   "metadata": {},
   "source": [
    "# Question 9"
   ]
  },
  {
   "cell_type": "code",
   "execution_count": 31,
   "id": "85877df7",
   "metadata": {},
   "outputs": [
    {
     "name": "stdout",
     "output_type": "stream",
     "text": [
      "['THE', 'QUICK', 'BROWN', 'FOX', 'JUMPS', 'OVER', 'THE', 'LAZY', 'DOG']\n",
      "\n",
      " ['the', 'quick', 'brown', 'fox', 'jumps', 'over', 'the', 'lazy', 'dog']\n",
      "\n",
      " [3, 5, 5, 3, 5, 4, 3, 4, 3]\n",
      "\n",
      " [['THE', 'the', 3], ['QUICK', 'quick', 5], ['BROWN', 'brown', 5], ['FOX', 'fox', 3], ['JUMPS', 'jumps', 5], ['OVER', 'over', 4], ['THE', 'the', 3], ['LAZY', 'lazy', 4], ['DOG', 'dog', 3]]\n",
      "\n",
      " ['quick', 'brown', 'jumps', 'over', 'lazy']\n"
     ]
    }
   ],
   "source": [
    "words = ['The', 'quick', 'brown', 'fox', 'jumps', 'over','the', 'lazy', 'dog']\n",
    "\n",
    "word_upper = [word.upper() for word in words]  # will print ever letter of the word in upper case.\n",
    "word_lower = [word.lower() for word in words]  # will print ever letter of the word in lower case.\n",
    "word_length = [len(word) for word in words]    # will print length of each word.\n",
    "# will print list for each word containing uppercase, lowecasae and length of each word\n",
    "word_list = [[word.upper(), word.lower(), len(word)] for word in words] \n",
    "#will print word having length greater than 4\n",
    "world_letter_4 = [word for word in words if len(word) >=4]\n",
    "\n",
    "\n",
    "print(word_upper)\n",
    "print(\"\\n\",word_lower)\n",
    "print(\"\\n\",word_length)\n",
    "print(\"\\n\",word_list)\n",
    "print(\"\\n\",world_letter_4)"
   ]
  },
  {
   "cell_type": "code",
   "execution_count": null,
   "id": "aa7e2a79",
   "metadata": {},
   "outputs": [],
   "source": []
  },
  {
   "cell_type": "code",
   "execution_count": null,
   "id": "d2e690cb",
   "metadata": {},
   "outputs": [],
   "source": []
  },
  {
   "cell_type": "code",
   "execution_count": null,
   "id": "13f44f80",
   "metadata": {},
   "outputs": [],
   "source": []
  }
 ],
 "metadata": {
  "kernelspec": {
   "display_name": "Python 3 (ipykernel)",
   "language": "python",
   "name": "python3"
  },
  "language_info": {
   "codemirror_mode": {
    "name": "ipython",
    "version": 3
   },
   "file_extension": ".py",
   "mimetype": "text/x-python",
   "name": "python",
   "nbconvert_exporter": "python",
   "pygments_lexer": "ipython3",
   "version": "3.11.4"
  }
 },
 "nbformat": 4,
 "nbformat_minor": 5
}
